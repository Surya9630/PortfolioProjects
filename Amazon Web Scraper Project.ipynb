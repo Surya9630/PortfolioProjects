{
 "cells": [
  {
   "cell_type": "code",
   "execution_count": 1,
   "id": "b3bb3afb",
   "metadata": {},
   "outputs": [],
   "source": [
    "#importing Libraries\n",
    "from bs4 import BeautifulSoup\n",
    "import requests\n",
    "import smtplib #for sending email to send yourself\n",
    "import time\n",
    "import datetime\n",
    "import pandas as pd\n"
   ]
  },
  {
   "cell_type": "code",
   "execution_count": 2,
   "id": "5cd2e9dd",
   "metadata": {},
   "outputs": [
    {
     "name": "stdout",
     "output_type": "stream",
     "text": [
      "\n",
      "            Nintendo Switch OLED model With White set\n",
      "           \n",
      "\n",
      "\n",
      "\n",
      "\n",
      "            -21%\n",
      "           \n",
      "\n",
      "\n",
      "             ₹31,689\n",
      "            \n",
      "\n",
      "\n",
      "              ₹\n",
      "             \n",
      "\n",
      "              31,689\n",
      "             \n",
      "\n",
      "\n",
      "\n",
      "\n",
      "\n",
      "\n",
      "\n",
      "\n",
      "\n",
      "              M.R.P.:\n",
      "              \n",
      "\n",
      "                ₹39,990\n",
      "               \n",
      "\n",
      "                ₹39,990\n",
      "               \n",
      "\n",
      "\n",
      "\n",
      "\n",
      "\n",
      "\n",
      "\n",
      "\n",
      "\n",
      "\n",
      "\n",
      "             24,078 ratings\n",
      "            \n",
      "\n",
      "\n",
      "                            In stock\n",
      "                           \n",
      "\n",
      "\n",
      "\n",
      "\n",
      "                            Sold by\n",
      "                           \n",
      "\n",
      "\n",
      "                             PLAYFULLDAY ⭐️⭐️⭐️⭐️⭐️\n",
      "                            \n",
      "\n",
      "\n",
      "                            and\n",
      "                           \n",
      "\n",
      "\n",
      "                             Fulfilled by Amazon\n",
      "                            \n",
      "\n",
      "\n",
      "                            .\n",
      "                           \n",
      "\n",
      "\n",
      "\n",
      "\n",
      "           Brand: Nintendo\n",
      "          \n"
     ]
    }
   ],
   "source": [
    "#connect to website\n",
    "\n",
    "URL ='https://www.amazon.in/Nintendo-Switch-OLED-model-White/dp/B098RKWHHZ/ref=sr_1_3?crid=1VPNIVVXPAVAM&keywords=nintendo+switch&qid=1685698966&sprefix=nin%2Caps%2C385&sr=8-3'\n",
    "\n",
    "headers = {\"User-Agent\": \"Mozilla/5.0 (Windows NT 10.0; Win64; x64) AppleWebKit/537.36 (KHTML, like Gecko) Chrome/112.0.0.0 Safari/537.36 OPR/98.0.0.0\"}\n",
    "\n",
    "\n",
    "page = requests.get(URL, headers=headers)\n",
    "\n",
    "Soup1 = BeautifulSoup(page.content, \"html.parser\")\n",
    "\n",
    "Soup2 = BeautifulSoup(Soup1.prettify(), 'html.parser')\n",
    "\n",
    "\n",
    "title = Soup2.find(id='productTitle').get_text()\n",
    "\n",
    "price = Soup2.find(id=\"corePriceDisplay_desktop_feature_div\").get_text()\n",
    "\n",
    "totalratings = Soup2.find(id='acrCustomerReviewText').get_text()\n",
    "\n",
    "availability = Soup2.find(id='availability').get_text()\n",
    "merchantinfo =Soup2.find(id='merchant-info').get_text()\n",
    "brand        = Soup2.find(id='bylineInfo').get_text()\n",
    "print(title)\n",
    "print(price)\n",
    "print(totalratings)\n",
    "print(availability)\n",
    "print(merchantinfo)\n",
    "print(brand)\n",
    "\n",
    "\n",
    "\n",
    "\n",
    "\n",
    "\n",
    "\n",
    "\n",
    "\n",
    "\n",
    "\n",
    "\n",
    "\n",
    "\n",
    "\n",
    "\n",
    "\n",
    "\n",
    "\n",
    "\n",
    "\n",
    "\n",
    "\n"
   ]
  },
  {
   "cell_type": "code",
   "execution_count": 3,
   "id": "db622289",
   "metadata": {},
   "outputs": [
    {
     "name": "stdout",
     "output_type": "stream",
     "text": [
      "Nintendo Switch OLED model With White set\n",
      "31,689\n",
      "24,078 \n",
      "In stock\n",
      "PLAYFULLDAY\n",
      "Nintendo\n"
     ]
    }
   ],
   "source": [
    "price=price.strip()[33:39]\n",
    "title=title.strip()\n",
    "totalratings=totalratings.strip()[:7]\n",
    "availability=availability.strip()\n",
    "merchantinfo=merchantinfo.strip()[67:78]\n",
    "brand  = brand.strip()[7:]\n",
    "print(title)\n",
    "print(price)\n",
    "print(totalratings)\n",
    "print(availability)\n",
    "print(merchantinfo)\n",
    "print(brand)\n",
    "\n",
    "\n"
   ]
  },
  {
   "cell_type": "code",
   "execution_count": 4,
   "id": "389c040c",
   "metadata": {},
   "outputs": [
    {
     "name": "stdout",
     "output_type": "stream",
     "text": [
      "2023-06-02\n"
     ]
    }
   ],
   "source": [
    "import datetime\n",
    "today=datetime.date.today()\n",
    "print(today)"
   ]
  },
  {
   "cell_type": "code",
   "execution_count": 5,
   "id": "136e7d7c",
   "metadata": {},
   "outputs": [],
   "source": [
    "import csv \n",
    "\n",
    "header = ['Title', 'Price','Date','Ratings','Availability','Merchant','Brand']\n",
    "data = [title, price,today,totalratings,availability,merchantinfo,brand]\n",
    "with open('AmazonWebDataset.csv', 'w', newline='', encoding= 'UTF8') as f:\n",
    "    writer = csv.writer(f)\n",
    "    writer.writerow(header)\n",
    "    writer.writerow(data)"
   ]
  },
  {
   "cell_type": "code",
   "execution_count": 6,
   "id": "e5cbf5db",
   "metadata": {},
   "outputs": [],
   "source": [
    "df = pd.read_csv(r'C:\\Users\\vikas\\AmazonWebDataset.csv')"
   ]
  },
  {
   "cell_type": "code",
   "execution_count": 7,
   "id": "8001ac3c",
   "metadata": {},
   "outputs": [
    {
     "name": "stdout",
     "output_type": "stream",
     "text": [
      "                                       Title   Price        Date  Ratings  \\\n",
      "0  Nintendo Switch OLED model With White set  31,689  2023-06-02  24,078    \n",
      "\n",
      "  Availability     Merchant     Brand  \n",
      "0     In stock  PLAYFULLDAY  Nintendo  \n"
     ]
    }
   ],
   "source": [
    "print(df)"
   ]
  },
  {
   "cell_type": "code",
   "execution_count": 8,
   "id": "f378eada",
   "metadata": {},
   "outputs": [],
   "source": [
    "# Now we are appending data to the csv\n",
    "#with open('AmazonWebDataset.csv', 'a+', newline='', encoding= 'UTF8') as f:\n",
    "   # writer = csv.writer(f)\n",
    "    #writer.writerow(data)"
   ]
  },
  {
   "cell_type": "code",
   "execution_count": 9,
   "id": "132d2a76",
   "metadata": {},
   "outputs": [],
   "source": [
    "def check_price():\n",
    "    #connect to website\n",
    "\n",
    "    URL ='https://www.amazon.in/Nintendo-Switch-OLED-model-White/dp/B098RKWHHZ/ref=sr_1_3?crid=1VPNIVVXPAVAM&keywords=nintendo+switch&qid=1685698966&sprefix=nin%2Caps%2C385&sr=8-3'\n",
    "\n",
    "    headers = {\"User-Agent\": \"Mozilla/5.0 (Windows NT 10.0; Win64; x64) AppleWebKit/537.36 (KHTML, like Gecko) Chrome/112.0.0.0 Safari/537.36 OPR/98.0.0.0\"}\n",
    "\n",
    "\n",
    "    page = requests.get(URL, headers=headers)\n",
    "\n",
    "    Soup1 = BeautifulSoup(page.content, \"html.parser\")\n",
    "\n",
    "    Soup2 = BeautifulSoup(Soup1.prettify(), 'html.parser')\n",
    "\n",
    "\n",
    "    title = Soup2.find(id='productTitle').get_text()\n",
    "\n",
    "    price = Soup2.find(id=\"corePriceDisplay_desktop_feature_div\").get_text()\n",
    "\n",
    "    totalratings = Soup2.find(id='acrCustomerReviewText').get_text()\n",
    "\n",
    "    availability = Soup2.find(id='availability').get_text()\n",
    "    \n",
    "    merchantinfo =Soup2.find(id='merchant-info').get_text()\n",
    "    \n",
    "    brand        = Soup2.find(id='bylineInfo').get_text()\n",
    "\n",
    "    \n",
    "    \n",
    "    \n",
    "    \n",
    "    \n",
    "    price=price.strip()[33:39]\n",
    "    title=title.strip()\n",
    "    totalratings=totalratings.strip()[:7]\n",
    "    availability=availability.strip()\n",
    "    merchantinfo=merchantinfo.strip()[67:78]\n",
    "    brand  = brand.strip()[7:]\n",
    "    \n",
    "    \n",
    "    import datetime\n",
    "    today=datetime.date.today()\n",
    "    \n",
    "    import csv \n",
    "\n",
    "    header = ['Title', 'Price','Date','Ratings','Availability','Merchant','Brand']\n",
    "    data = [title, price,today,totalratings,availability,merchantinfo,brand]\n",
    "   \n",
    "\n",
    "    with open('AmazonWebDataset.csv', 'a+', newline='', encoding= 'UTF8') as f:\n",
    "        writer = csv.writer(f)\n",
    "        writer.writerow(data)\n",
    "        \n",
    "   "
   ]
  },
  {
   "cell_type": "code",
   "execution_count": 10,
   "id": "be301053",
   "metadata": {},
   "outputs": [
    {
     "name": "stdout",
     "output_type": "stream",
     "text": [
      "                                       Title   Price        Date  Ratings  \\\n",
      "0  Nintendo Switch OLED model With White set  31,689  2023-06-02  24,078    \n",
      "\n",
      "  Availability     Merchant     Brand  \n",
      "0     In stock  PLAYFULLDAY  Nintendo  \n"
     ]
    }
   ],
   "source": [
    "df = pd.read_csv(r'C:\\Users\\vikas\\AmazonWebDataset.csv')\n",
    "\n",
    "print(df)"
   ]
  },
  {
   "cell_type": "code",
   "execution_count": 11,
   "id": "dbfe267d",
   "metadata": {},
   "outputs": [],
   "source": [
    "# if(price < 26000):\n",
    "#send_mail()\n",
    "\n",
    "\n",
    "#def send_mail():\n",
    "    #server = smtplib.SMTP_SSL('smtp.gmail.com', 465)\n",
    "    #server.ehlo()\n",
    "    #server.starttls()\n",
    "    #server.ehlo()\n",
    "    #server.login('suryapratap0369@gmail.com', 'xxxxxxxxxxxxxx')\n",
    "    \n",
    "    #subject = \"Nintendo OLED Price Drop Get It Now!!\"\n",
    "    #body =    \"The Drop is real go get it now.One in a million chance don't screw it up\"\n",
    "    \n",
    "    #msg = f\"subject: {subject}\\n\\n{body}\"\n",
    "    \n",
    "    #server.sendmail(\n",
    "      #  'suryapratap0369@gmail.com',\n",
    "       #  msg\n",
    "    #)"
   ]
  },
  {
   "cell_type": "code",
   "execution_count": null,
   "id": "5f3e6c3b",
   "metadata": {},
   "outputs": [],
   "source": [
    "while(True):\n",
    "    check_price()\n",
    "    time.sleep(86400)"
   ]
  },
  {
   "cell_type": "code",
   "execution_count": null,
   "id": "6c9126f4",
   "metadata": {},
   "outputs": [],
   "source": [
    "df = pd.read_csv(r'C:\\Users\\vikas\\AmazonWebDataset.csv')\n",
    "\n",
    "print(df)"
   ]
  }
 ],
 "metadata": {
  "kernelspec": {
   "display_name": "Python 3 (ipykernel)",
   "language": "python",
   "name": "python3"
  },
  "language_info": {
   "codemirror_mode": {
    "name": "ipython",
    "version": 3
   },
   "file_extension": ".py",
   "mimetype": "text/x-python",
   "name": "python",
   "nbconvert_exporter": "python",
   "pygments_lexer": "ipython3",
   "version": "3.10.9"
  }
 },
 "nbformat": 4,
 "nbformat_minor": 5
}
